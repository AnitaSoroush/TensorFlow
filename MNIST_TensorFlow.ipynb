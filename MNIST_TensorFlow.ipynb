{
  "nbformat": 4,
  "nbformat_minor": 0,
  "metadata": {
    "colab": {
      "provenance": [],
      "collapsed_sections": []
    },
    "kernelspec": {
      "name": "python3",
      "display_name": "Python 3"
    },
    "language_info": {
      "name": "python"
    },
    "widgets": {
      "application/vnd.jupyter.widget-state+json": {
        "d196f29d15e741baac5e8a86b13f58aa": {
          "model_module": "@jupyter-widgets/controls",
          "model_name": "HBoxModel",
          "model_module_version": "1.5.0",
          "state": {
            "_dom_classes": [],
            "_model_module": "@jupyter-widgets/controls",
            "_model_module_version": "1.5.0",
            "_model_name": "HBoxModel",
            "_view_count": null,
            "_view_module": "@jupyter-widgets/controls",
            "_view_module_version": "1.5.0",
            "_view_name": "HBoxView",
            "box_style": "",
            "children": [
              "IPY_MODEL_4d3bcebb5328487492270c5ad3e5c105",
              "IPY_MODEL_1ed237bdb3a54049ae48d2994090692e",
              "IPY_MODEL_6650f8d89e6a4fcbabaaf647962a1363"
            ],
            "layout": "IPY_MODEL_484c69ddda6044bd8e686daa5fd76f12"
          }
        },
        "4d3bcebb5328487492270c5ad3e5c105": {
          "model_module": "@jupyter-widgets/controls",
          "model_name": "HTMLModel",
          "model_module_version": "1.5.0",
          "state": {
            "_dom_classes": [],
            "_model_module": "@jupyter-widgets/controls",
            "_model_module_version": "1.5.0",
            "_model_name": "HTMLModel",
            "_view_count": null,
            "_view_module": "@jupyter-widgets/controls",
            "_view_module_version": "1.5.0",
            "_view_name": "HTMLView",
            "description": "",
            "description_tooltip": null,
            "layout": "IPY_MODEL_786b050e0b974547aedd47e5ff9b78df",
            "placeholder": "​",
            "style": "IPY_MODEL_f14ae0d687d849cc91dd1c82b833a63d",
            "value": "Dl Completed...: 100%"
          }
        },
        "1ed237bdb3a54049ae48d2994090692e": {
          "model_module": "@jupyter-widgets/controls",
          "model_name": "FloatProgressModel",
          "model_module_version": "1.5.0",
          "state": {
            "_dom_classes": [],
            "_model_module": "@jupyter-widgets/controls",
            "_model_module_version": "1.5.0",
            "_model_name": "FloatProgressModel",
            "_view_count": null,
            "_view_module": "@jupyter-widgets/controls",
            "_view_module_version": "1.5.0",
            "_view_name": "ProgressView",
            "bar_style": "success",
            "description": "",
            "description_tooltip": null,
            "layout": "IPY_MODEL_128ddb48943e4c66ba3e605e4c72e4c5",
            "max": 4,
            "min": 0,
            "orientation": "horizontal",
            "style": "IPY_MODEL_0b4a5662ee2e417fb80a90b27a6601d8",
            "value": 4
          }
        },
        "6650f8d89e6a4fcbabaaf647962a1363": {
          "model_module": "@jupyter-widgets/controls",
          "model_name": "HTMLModel",
          "model_module_version": "1.5.0",
          "state": {
            "_dom_classes": [],
            "_model_module": "@jupyter-widgets/controls",
            "_model_module_version": "1.5.0",
            "_model_name": "HTMLModel",
            "_view_count": null,
            "_view_module": "@jupyter-widgets/controls",
            "_view_module_version": "1.5.0",
            "_view_name": "HTMLView",
            "description": "",
            "description_tooltip": null,
            "layout": "IPY_MODEL_5ac496c63bd4459ab0eee4d7af808afa",
            "placeholder": "​",
            "style": "IPY_MODEL_7a7640d0980642b4b74f92dd9f7ff1a7",
            "value": " 4/4 [00:00&lt;00:00, 10.35 file/s]"
          }
        },
        "484c69ddda6044bd8e686daa5fd76f12": {
          "model_module": "@jupyter-widgets/base",
          "model_name": "LayoutModel",
          "model_module_version": "1.2.0",
          "state": {
            "_model_module": "@jupyter-widgets/base",
            "_model_module_version": "1.2.0",
            "_model_name": "LayoutModel",
            "_view_count": null,
            "_view_module": "@jupyter-widgets/base",
            "_view_module_version": "1.2.0",
            "_view_name": "LayoutView",
            "align_content": null,
            "align_items": null,
            "align_self": null,
            "border": null,
            "bottom": null,
            "display": null,
            "flex": null,
            "flex_flow": null,
            "grid_area": null,
            "grid_auto_columns": null,
            "grid_auto_flow": null,
            "grid_auto_rows": null,
            "grid_column": null,
            "grid_gap": null,
            "grid_row": null,
            "grid_template_areas": null,
            "grid_template_columns": null,
            "grid_template_rows": null,
            "height": null,
            "justify_content": null,
            "justify_items": null,
            "left": null,
            "margin": null,
            "max_height": null,
            "max_width": null,
            "min_height": null,
            "min_width": null,
            "object_fit": null,
            "object_position": null,
            "order": null,
            "overflow": null,
            "overflow_x": null,
            "overflow_y": null,
            "padding": null,
            "right": null,
            "top": null,
            "visibility": null,
            "width": null
          }
        },
        "786b050e0b974547aedd47e5ff9b78df": {
          "model_module": "@jupyter-widgets/base",
          "model_name": "LayoutModel",
          "model_module_version": "1.2.0",
          "state": {
            "_model_module": "@jupyter-widgets/base",
            "_model_module_version": "1.2.0",
            "_model_name": "LayoutModel",
            "_view_count": null,
            "_view_module": "@jupyter-widgets/base",
            "_view_module_version": "1.2.0",
            "_view_name": "LayoutView",
            "align_content": null,
            "align_items": null,
            "align_self": null,
            "border": null,
            "bottom": null,
            "display": null,
            "flex": null,
            "flex_flow": null,
            "grid_area": null,
            "grid_auto_columns": null,
            "grid_auto_flow": null,
            "grid_auto_rows": null,
            "grid_column": null,
            "grid_gap": null,
            "grid_row": null,
            "grid_template_areas": null,
            "grid_template_columns": null,
            "grid_template_rows": null,
            "height": null,
            "justify_content": null,
            "justify_items": null,
            "left": null,
            "margin": null,
            "max_height": null,
            "max_width": null,
            "min_height": null,
            "min_width": null,
            "object_fit": null,
            "object_position": null,
            "order": null,
            "overflow": null,
            "overflow_x": null,
            "overflow_y": null,
            "padding": null,
            "right": null,
            "top": null,
            "visibility": null,
            "width": null
          }
        },
        "f14ae0d687d849cc91dd1c82b833a63d": {
          "model_module": "@jupyter-widgets/controls",
          "model_name": "DescriptionStyleModel",
          "model_module_version": "1.5.0",
          "state": {
            "_model_module": "@jupyter-widgets/controls",
            "_model_module_version": "1.5.0",
            "_model_name": "DescriptionStyleModel",
            "_view_count": null,
            "_view_module": "@jupyter-widgets/base",
            "_view_module_version": "1.2.0",
            "_view_name": "StyleView",
            "description_width": ""
          }
        },
        "128ddb48943e4c66ba3e605e4c72e4c5": {
          "model_module": "@jupyter-widgets/base",
          "model_name": "LayoutModel",
          "model_module_version": "1.2.0",
          "state": {
            "_model_module": "@jupyter-widgets/base",
            "_model_module_version": "1.2.0",
            "_model_name": "LayoutModel",
            "_view_count": null,
            "_view_module": "@jupyter-widgets/base",
            "_view_module_version": "1.2.0",
            "_view_name": "LayoutView",
            "align_content": null,
            "align_items": null,
            "align_self": null,
            "border": null,
            "bottom": null,
            "display": null,
            "flex": null,
            "flex_flow": null,
            "grid_area": null,
            "grid_auto_columns": null,
            "grid_auto_flow": null,
            "grid_auto_rows": null,
            "grid_column": null,
            "grid_gap": null,
            "grid_row": null,
            "grid_template_areas": null,
            "grid_template_columns": null,
            "grid_template_rows": null,
            "height": null,
            "justify_content": null,
            "justify_items": null,
            "left": null,
            "margin": null,
            "max_height": null,
            "max_width": null,
            "min_height": null,
            "min_width": null,
            "object_fit": null,
            "object_position": null,
            "order": null,
            "overflow": null,
            "overflow_x": null,
            "overflow_y": null,
            "padding": null,
            "right": null,
            "top": null,
            "visibility": null,
            "width": null
          }
        },
        "0b4a5662ee2e417fb80a90b27a6601d8": {
          "model_module": "@jupyter-widgets/controls",
          "model_name": "ProgressStyleModel",
          "model_module_version": "1.5.0",
          "state": {
            "_model_module": "@jupyter-widgets/controls",
            "_model_module_version": "1.5.0",
            "_model_name": "ProgressStyleModel",
            "_view_count": null,
            "_view_module": "@jupyter-widgets/base",
            "_view_module_version": "1.2.0",
            "_view_name": "StyleView",
            "bar_color": null,
            "description_width": ""
          }
        },
        "5ac496c63bd4459ab0eee4d7af808afa": {
          "model_module": "@jupyter-widgets/base",
          "model_name": "LayoutModel",
          "model_module_version": "1.2.0",
          "state": {
            "_model_module": "@jupyter-widgets/base",
            "_model_module_version": "1.2.0",
            "_model_name": "LayoutModel",
            "_view_count": null,
            "_view_module": "@jupyter-widgets/base",
            "_view_module_version": "1.2.0",
            "_view_name": "LayoutView",
            "align_content": null,
            "align_items": null,
            "align_self": null,
            "border": null,
            "bottom": null,
            "display": null,
            "flex": null,
            "flex_flow": null,
            "grid_area": null,
            "grid_auto_columns": null,
            "grid_auto_flow": null,
            "grid_auto_rows": null,
            "grid_column": null,
            "grid_gap": null,
            "grid_row": null,
            "grid_template_areas": null,
            "grid_template_columns": null,
            "grid_template_rows": null,
            "height": null,
            "justify_content": null,
            "justify_items": null,
            "left": null,
            "margin": null,
            "max_height": null,
            "max_width": null,
            "min_height": null,
            "min_width": null,
            "object_fit": null,
            "object_position": null,
            "order": null,
            "overflow": null,
            "overflow_x": null,
            "overflow_y": null,
            "padding": null,
            "right": null,
            "top": null,
            "visibility": null,
            "width": null
          }
        },
        "7a7640d0980642b4b74f92dd9f7ff1a7": {
          "model_module": "@jupyter-widgets/controls",
          "model_name": "DescriptionStyleModel",
          "model_module_version": "1.5.0",
          "state": {
            "_model_module": "@jupyter-widgets/controls",
            "_model_module_version": "1.5.0",
            "_model_name": "DescriptionStyleModel",
            "_view_count": null,
            "_view_module": "@jupyter-widgets/base",
            "_view_module_version": "1.2.0",
            "_view_name": "StyleView",
            "description_width": ""
          }
        }
      }
    }
  },
  "cells": [
    {
      "cell_type": "markdown",
      "source": [
        "A mini project in MNIST using TensorFlow"
      ],
      "metadata": {
        "id": "R2XKA3IGYH0_"
      }
    },
    {
      "cell_type": "code",
      "source": [
        "import tensorflow as tf"
      ],
      "metadata": {
        "id": "ZDNY_YP3nSA8"
      },
      "execution_count": 1,
      "outputs": []
    },
    {
      "cell_type": "code",
      "source": [
        "import tensorflow_datasets"
      ],
      "metadata": {
        "id": "iKLlYdBKnXSC"
      },
      "execution_count": 2,
      "outputs": []
    },
    {
      "cell_type": "code",
      "source": [
        "(train, test), info = tensorflow_datasets.load('mnist', split=['train', 'test'], as_supervised=True, with_info=True)"
      ],
      "metadata": {
        "colab": {
          "base_uri": "https://localhost:8080/",
          "height": 84,
          "referenced_widgets": [
            "d196f29d15e741baac5e8a86b13f58aa",
            "4d3bcebb5328487492270c5ad3e5c105",
            "1ed237bdb3a54049ae48d2994090692e",
            "6650f8d89e6a4fcbabaaf647962a1363",
            "484c69ddda6044bd8e686daa5fd76f12",
            "786b050e0b974547aedd47e5ff9b78df",
            "f14ae0d687d849cc91dd1c82b833a63d",
            "128ddb48943e4c66ba3e605e4c72e4c5",
            "0b4a5662ee2e417fb80a90b27a6601d8",
            "5ac496c63bd4459ab0eee4d7af808afa",
            "7a7640d0980642b4b74f92dd9f7ff1a7"
          ]
        },
        "id": "3dzuxniRnedx",
        "outputId": "45ea1ffd-3281-4821-fff7-7d7fe58c8307"
      },
      "execution_count": 3,
      "outputs": [
        {
          "output_type": "stream",
          "name": "stdout",
          "text": [
            "\u001b[1mDownloading and preparing dataset 11.06 MiB (download: 11.06 MiB, generated: 21.00 MiB, total: 32.06 MiB) to ~/tensorflow_datasets/mnist/3.0.1...\u001b[0m\n"
          ]
        },
        {
          "output_type": "display_data",
          "data": {
            "text/plain": [
              "Dl Completed...:   0%|          | 0/4 [00:00<?, ? file/s]"
            ],
            "application/vnd.jupyter.widget-view+json": {
              "version_major": 2,
              "version_minor": 0,
              "model_id": "d196f29d15e741baac5e8a86b13f58aa"
            }
          },
          "metadata": {}
        },
        {
          "output_type": "stream",
          "name": "stdout",
          "text": [
            "\u001b[1mDataset mnist downloaded and prepared to ~/tensorflow_datasets/mnist/3.0.1. Subsequent calls will reuse this data.\u001b[0m\n"
          ]
        }
      ]
    },
    {
      "cell_type": "markdown",
      "source": [
        "## **Train Part**"
      ],
      "metadata": {
        "id": "STlg_zGf-WCh"
      }
    },
    {
      "cell_type": "code",
      "source": [
        "train"
      ],
      "metadata": {
        "colab": {
          "base_uri": "https://localhost:8080/"
        },
        "id": "oTxQGXNtnntW",
        "outputId": "88e72ee2-2e73-4ec7-ac4f-bdb2164e3497"
      },
      "execution_count": 4,
      "outputs": [
        {
          "output_type": "execute_result",
          "data": {
            "text/plain": [
              "<PrefetchDataset element_spec=(TensorSpec(shape=(28, 28, 1), dtype=tf.uint8, name=None), TensorSpec(shape=(), dtype=tf.int64, name=None))>"
            ]
          },
          "metadata": {},
          "execution_count": 4
        }
      ]
    },
    {
      "cell_type": "markdown",
      "source": [
        "According to the above results, each row is a 28*28 image nad a lable\n",
        "\n",
        "As we now each pixel is an integer number between 1 to 256. The following function receives an image and a lable (1 row of the dataset) and nomalize it. \n",
        "\n",
        "To achieve this we should first of all cast each pixel from tf.uint8 to float (either tf.float32 or tf.float64). I prefer tf.float32."
      ],
      "metadata": {
        "id": "_3u0KuPxzLyB"
      }
    },
    {
      "cell_type": "code",
      "source": [
        "def normalize(image, label):\n",
        "    return tf.cast(image, tf.float32) / 256, label\n",
        "train = train.map(normalize)\n",
        "train"
      ],
      "metadata": {
        "colab": {
          "base_uri": "https://localhost:8080/"
        },
        "id": "ykNOPuGjnrGR",
        "outputId": "75448008-d3f7-4a98-f35f-8644d5c958f9"
      },
      "execution_count": 5,
      "outputs": [
        {
          "output_type": "execute_result",
          "data": {
            "text/plain": [
              "<MapDataset element_spec=(TensorSpec(shape=(28, 28, 1), dtype=tf.float32, name=None), TensorSpec(shape=(), dtype=tf.int64, name=None))>"
            ]
          },
          "metadata": {},
          "execution_count": 5
        }
      ]
    },
    {
      "cell_type": "code",
      "source": [
        "train = train.cache()"
      ],
      "metadata": {
        "id": "rKbnbJm_nxpe"
      },
      "execution_count": 6,
      "outputs": []
    },
    {
      "cell_type": "code",
      "source": [
        "info.splits['train']"
      ],
      "metadata": {
        "colab": {
          "base_uri": "https://localhost:8080/"
        },
        "id": "y2IVsTOWn3cc",
        "outputId": "e3e4432e-6329-48e0-853d-8c8e1a0ec3f8"
      },
      "execution_count": 7,
      "outputs": [
        {
          "output_type": "execute_result",
          "data": {
            "text/plain": [
              "<SplitInfo num_examples=60000, num_shards=1>"
            ]
          },
          "metadata": {},
          "execution_count": 7
        }
      ]
    },
    {
      "cell_type": "code",
      "source": [
        "train = train.shuffle(info.splits['train'].num_examples)"
      ],
      "metadata": {
        "id": "n4-9E-Dmn6tW"
      },
      "execution_count": 8,
      "outputs": []
    },
    {
      "cell_type": "code",
      "source": [
        "train = train.batch(256)"
      ],
      "metadata": {
        "id": "pAvCcW3Gn-Iw"
      },
      "execution_count": 9,
      "outputs": []
    },
    {
      "cell_type": "code",
      "source": [
        "train = train.prefetch(tf.data.experimental.AUTOTUNE)"
      ],
      "metadata": {
        "id": "IaNj5oJzoC93"
      },
      "execution_count": 12,
      "outputs": []
    },
    {
      "cell_type": "code",
      "source": [
        "train"
      ],
      "metadata": {
        "colab": {
          "base_uri": "https://localhost:8080/"
        },
        "id": "3_p_JZ9poGv1",
        "outputId": "7a47ac86-096a-4c7c-e862-b495ef34ece8"
      },
      "execution_count": 13,
      "outputs": [
        {
          "output_type": "execute_result",
          "data": {
            "text/plain": [
              "<PrefetchDataset element_spec=(TensorSpec(shape=(None, 28, 28, 1), dtype=tf.float32, name=None), TensorSpec(shape=(None,), dtype=tf.int64, name=None))>"
            ]
          },
          "metadata": {},
          "execution_count": 13
        }
      ]
    },
    {
      "cell_type": "markdown",
      "source": [
        "## **Test Part**"
      ],
      "metadata": {
        "id": "9hqsRRzg-cvB"
      }
    },
    {
      "cell_type": "code",
      "source": [
        "test = test.map(normalize)\n",
        "test"
      ],
      "metadata": {
        "colab": {
          "base_uri": "https://localhost:8080/"
        },
        "id": "7j3H7xdyoKzw",
        "outputId": "7e7f097b-930f-4b60-c62b-98aa67d3b68d"
      },
      "execution_count": 14,
      "outputs": [
        {
          "output_type": "execute_result",
          "data": {
            "text/plain": [
              "<MapDataset element_spec=(TensorSpec(shape=(28, 28, 1), dtype=tf.float32, name=None), TensorSpec(shape=(), dtype=tf.int64, name=None))>"
            ]
          },
          "metadata": {},
          "execution_count": 14
        }
      ]
    },
    {
      "cell_type": "code",
      "source": [
        "test = test.batch(256)"
      ],
      "metadata": {
        "id": "EO7zLsKCoOxt"
      },
      "execution_count": 15,
      "outputs": []
    },
    {
      "cell_type": "code",
      "source": [
        "test = test.cache()\n",
        "test = test.prefetch(tf.data.experimental.AUTOTUNE)"
      ],
      "metadata": {
        "id": "o-qeYM_hoSJ_"
      },
      "execution_count": 16,
      "outputs": []
    },
    {
      "cell_type": "markdown",
      "source": [
        "## **Model**"
      ],
      "metadata": {
        "id": "VcGgJQcx-m-y"
      }
    },
    {
      "cell_type": "markdown",
      "source": [
        "In order to build the model, first of all I flatten each 28*28 image into a 784-dimention row. So the first layer of our model is made up of 784 neurons.\n",
        "\n",
        "I decided to have only 1 hiden layer which is made up of 100 neurons with **relu** activation functon, And the output layer should obviously contain 10 neurons (the images are showing an integer between 0 to 9) and I choose **softmax** to be the activation function of neurons of this layer.\n"
      ],
      "metadata": {
        "id": "KpuHr5HC-0Zm"
      }
    },
    {
      "cell_type": "code",
      "source": [
        "model = tf.keras.models.Sequential([\n",
        "    tf.keras.layers.Flatten(input_shape=(28, 28)),\n",
        "    tf.keras.layers.Dense(100, activation='relu'),\n",
        "    tf.keras.layers.Dense(10, activation='softmax')\n",
        "])"
      ],
      "metadata": {
        "id": "BgddNpJjoXgw"
      },
      "execution_count": 17,
      "outputs": []
    },
    {
      "cell_type": "markdown",
      "source": [
        "* **Loss:**\n",
        "\n",
        "Generally loss/cost functions are used to optimize the model during training. The objective is almost always to minimize the loss function. The lower the loss the better the model. **Cross-Entropy loss** is a most important cost function. It is used to optimize classification models. This loss function is used when there are two or more label classes. In this project, Softmax outputs probabilities. The purpose of the Cross-Entropy is to take the these probabilities and measure the distance from the truth values. \n",
        "\n",
        "* **Metrics:**\n",
        "\n",
        "Keras accuracy metrics are functions that are used to evaluate the performance of your deep learning model. Keras provides a rich pool of inbuilt metrics. Depending on your problem, you’ll use different ones.\n",
        "\n",
        "**Categorical Accuracy:**\n",
        "This metric is used for classification problems involving more than two classes. Like our dataset, MNIST, that has 10 classes.\n",
        "\n",
        "Categorical Accuracy calculates the percentage of predicted values (yPred) that match with actual values (yTrue) for one-hot labels.\n",
        "\n",
        "for each row is compares the index of the maximal true value with the index of the maximal predicted value. In other words **“how often predictions have maximum in the same spot as true values”**. To acheive this, First, it identifies the index at which the maximum value occurs using **argmax()** If it is the same for both yPred and yTrue, it is considered accurate. It computes the **mean accuracy** rate across all predictions."
      ],
      "metadata": {
        "id": "XUaHGXt-ImCp"
      }
    },
    {
      "cell_type": "code",
      "source": [
        "model.compile(optimizer=tf.keras.optimizers.Adam(0.001), loss=tf.keras.losses.SparseCategoricalCrossentropy(from_logits=True), metrics=[tf.keras.metrics.CategoricalAccuracy()])"
      ],
      "metadata": {
        "id": "n1Vofnf5odhE"
      },
      "execution_count": 23,
      "outputs": []
    },
    {
      "cell_type": "code",
      "source": [
        "model.fit(train, epochs=10, validation_data=test)"
      ],
      "metadata": {
        "colab": {
          "base_uri": "https://localhost:8080/"
        },
        "id": "lvvCM5LKohwr",
        "outputId": "b9f98e22-b195-466b-adcf-abf35236894f"
      },
      "execution_count": 24,
      "outputs": [
        {
          "output_type": "stream",
          "name": "stdout",
          "text": [
            "Epoch 1/10\n",
            "235/235 [==============================] - 2s 6ms/step - loss: 0.0572 - categorical_accuracy: 0.0990 - val_loss: 0.0854 - val_categorical_accuracy: 0.0989\n",
            "Epoch 2/10\n",
            "235/235 [==============================] - 2s 7ms/step - loss: 0.0497 - categorical_accuracy: 0.0990 - val_loss: 0.0833 - val_categorical_accuracy: 0.0994\n",
            "Epoch 3/10\n",
            "235/235 [==============================] - 2s 6ms/step - loss: 0.0446 - categorical_accuracy: 0.0991 - val_loss: 0.0816 - val_categorical_accuracy: 0.0995\n",
            "Epoch 4/10\n",
            "235/235 [==============================] - 2s 6ms/step - loss: 0.0391 - categorical_accuracy: 0.0989 - val_loss: 0.0796 - val_categorical_accuracy: 0.0991\n",
            "Epoch 5/10\n",
            "235/235 [==============================] - 1s 6ms/step - loss: 0.0357 - categorical_accuracy: 0.0990 - val_loss: 0.0795 - val_categorical_accuracy: 0.0987\n",
            "Epoch 6/10\n",
            "235/235 [==============================] - 2s 6ms/step - loss: 0.0321 - categorical_accuracy: 0.0991 - val_loss: 0.0757 - val_categorical_accuracy: 0.0979\n",
            "Epoch 7/10\n",
            "235/235 [==============================] - 1s 6ms/step - loss: 0.0284 - categorical_accuracy: 0.0989 - val_loss: 0.0786 - val_categorical_accuracy: 0.0981\n",
            "Epoch 8/10\n",
            "235/235 [==============================] - 1s 6ms/step - loss: 0.0253 - categorical_accuracy: 0.0989 - val_loss: 0.0773 - val_categorical_accuracy: 0.0981\n",
            "Epoch 9/10\n",
            "235/235 [==============================] - 1s 6ms/step - loss: 0.0234 - categorical_accuracy: 0.0989 - val_loss: 0.0757 - val_categorical_accuracy: 0.0984\n",
            "Epoch 10/10\n",
            "235/235 [==============================] - 2s 6ms/step - loss: 0.0211 - categorical_accuracy: 0.0989 - val_loss: 0.0748 - val_categorical_accuracy: 0.0982\n"
          ]
        },
        {
          "output_type": "execute_result",
          "data": {
            "text/plain": [
              "<keras.callbacks.History at 0x7ff7a6b8b150>"
            ]
          },
          "metadata": {},
          "execution_count": 24
        }
      ]
    },
    {
      "cell_type": "markdown",
      "source": [
        "An example of prediction:"
      ],
      "metadata": {
        "id": "7WFJUDQ-XSMH"
      }
    },
    {
      "cell_type": "code",
      "source": [
        "model.predict(test)[0]"
      ],
      "metadata": {
        "colab": {
          "base_uri": "https://localhost:8080/"
        },
        "id": "Hj1n7THbYk5U",
        "outputId": "450aa438-ff6d-4dff-ccdb-b76f22b3fa4a"
      },
      "execution_count": 26,
      "outputs": [
        {
          "output_type": "execute_result",
          "data": {
            "text/plain": [
              "array([1.9356178e-11, 1.8541074e-09, 9.9999356e-01, 7.4125523e-08,\n",
              "       3.0247133e-08, 3.4786538e-09, 1.2138639e-06, 1.7588035e-11,\n",
              "       5.1738139e-06, 2.4990656e-09], dtype=float32)"
            ]
          },
          "metadata": {},
          "execution_count": 26
        }
      ]
    },
    {
      "cell_type": "markdown",
      "source": [
        "The array that we have received from the code above is the output of the neurons of the last layer of our model. We need the argmax of this array in order to know the predicted label."
      ],
      "metadata": {
        "id": "sYLsUEs4Yozm"
      }
    },
    {
      "cell_type": "code",
      "source": [
        "import numpy as np\n",
        "np.argmax(model.predict(test)[0])"
      ],
      "metadata": {
        "colab": {
          "base_uri": "https://localhost:8080/"
        },
        "id": "Yvsj8Hc0o_wa",
        "outputId": "5d4d8eeb-e9e4-4f16-b361-be67c5e9e27d"
      },
      "execution_count": 25,
      "outputs": [
        {
          "output_type": "execute_result",
          "data": {
            "text/plain": [
              "2"
            ]
          },
          "metadata": {},
          "execution_count": 25
        }
      ]
    }
  ]
}